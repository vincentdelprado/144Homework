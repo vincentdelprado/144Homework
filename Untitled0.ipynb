{
 "metadata": {
  "name": "Untitled0"
 },
 "nbformat": 3,
 "nbformat_minor": 0,
 "worksheets": [
  {
   "cells": [
    {
     "cell_type": "code",
     "collapsed": false,
     "input": "w = \"artichoke\"\nv = [\"a\",\"e\",\"i\",\"o\",\"u\"] \nfor x in w: \n    if x not in v: \n        p = [0:] \n    if x in v: \n        p = [x:]\n        q = [0:x] \n    \n    \n",
     "language": "python",
     "metadata": {},
     "outputs": []
    },
    {
     "cell_type": "code",
     "collapsed": false,
     "input": "dictionary = {}\ndictionary[\"when\"] = {\"def\": \"at what time\", \"pos\": \"adv\", \"phon\": \"w\u025bn\"}\ndictionary[\"I\"] = {\"def\": \"the speaker or writer referred to as the grammatical subject of the sentence.\", \"pos\": \"pn\", \"phon\": \"a\u026a\"} \ndictionary[\"was\"] = {\"def\":\"first or third person singular simple past tense indicative of be\",\"pos\":\"v\",\"phon\":\"w\u028cz\"}\ndictionary[\"little\"] = {\"def\":\"small in size\", \"pos\":\"adj\", \"phon\": \"l\u026atl\"}\ndictionary[\"thought\"] = {\"def\":\"simple past tense and past participle of think\", \"pos\": \"v\", \"phon\":\"\u03b8\u0251t\"}\ndictionary[\"a\"] = {\"def\": \"one; any definite example of; used to denote singular item of a group\", \"pos\":\"det\", \"phon\":\"e\u026a\"}\ndictionary[\"python\"] = {\"def\": \"a type of large constricting snake\", \"pos\": \"n\", \"phon\":\"pa\u026a\u03b8\u0251\u02d0n\"}\ndictionary[\"snake\"] = {\"def\":\"A legless reptile of the sub-order Serpentes with a long, thin body and a fork-shaped tongue.\", \"pos\": \"n\", \"phon\": \"sne\u026ak\"}\ndictionary[\"now\"] = {\"def\":\"At the present time\", \"pos\":\"adv\", \"phon\": \"na\u028a\u032f\"}\ndictionary[\"know\"] = {\"def\":\"To be certain or sure about\", \"pos\":\"v\", \"phon\":\"no\u028a\"}\ndictionary[\"it\"] = {\"def\":\"The third-person singular personal pronoun used to refer to an inanimate object, to an inanimate thing with no or unknown sex or gender.\", \"pos\":\"pn\", \"phon\": \"\u026at\"}\ndictionary[\"is\"] = {\"def\":\"third-person singular simple present indicative form of be\", \"pos\":\"v\", \"phon\":\"\u026az\"}\ndictionary[\"really\"] = {\"def\":\"Actually; in fact; in reality\",\"pos\":\"adv\", \"phon\":\"\u0279i\u0259li\"}\ndictionary[\"monster\"] = {\"def\": \"A terrifying and dangerous, wild or fictional creature.\",\"pos\":\"n\", \"phon\":\"m\u0251nst\u025a\"}\ndictionary[\"in\"] = {\"def\":\"Contained by.\",\"pos\":\"p\",\"phon\":\"\u026an\"}\ndictionary[\"disguise\"] = {\"def\":\"The appearance of something on the outside which masks what's beneath.\",\"pos\":\"n\",\"phon\":\"d\u026a\u02c8ska\u026az\"}\ndictionary[\"but\"] = {\"def\":\"Without, apart from, except.\",\"pos\":\"conj\",\"phon\":\"b\u028ct\"}\ndictionary[\"will\"] = {\"def\":\"Used to express the future tense, formerly with some implication of volition when used in first person. Compare shall.\", \"pos\":\"adv\", \"phon\":\"w\u026al\"}\ndictionary[\"prevail\"] = {\"def\": \"To be superior in strength, dominance, influence or frequency; to have or gain the advantage over others; to have the upper hand; to outnumber others.\", \"pos\":[n],\"phon\":\"p\u0279\u0259va\u026al\"}\ndictionary[\"over\"] = {\"def\":\"On top of; above; higher than; further up.\",\"pos\":\"v\",\"phon\":\"o\u028a.v\u025az\"}\ndictionary[\"this\"] = {\"def\":\"The (thing) here (used in indicating something or someone nearby).\",\"pos\":\"det\",\"phon\":\"\u00f0\u026as\"}\ndictionary[\"hideous\"] = {\"def\":\"Frightful; shocking; extremely ugly.\",\"pos\":\"adj\",\"phon\":\"h\u026ad.i\u02d0.\u028cs\"}\ndictionary[\"beast\"] = {\"def\":\"Any animal other than a human; usually only applied to land vertebrates, especially large or dangerous four-footed ones.\",\"pos\":\"n\",\"phon\":\"bi\u02d0st\"}",
     "language": "python",
     "metadata": {},
     "outputs": []
    }
   ],
   "metadata": {}
  }
 ]
}